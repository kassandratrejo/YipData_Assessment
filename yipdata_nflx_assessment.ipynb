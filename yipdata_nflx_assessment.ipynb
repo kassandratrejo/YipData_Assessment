{
 "cells": [
  {
   "cell_type": "markdown",
   "id": "7380cbab-78f3-486e-8451-d3b40d13cb42",
   "metadata": {},
   "source": [
    "# Loading in Data and packages"
   ]
  },
  {
   "cell_type": "code",
   "execution_count": 76,
   "id": "519e12f0-f31b-419e-971e-82a1ac515a81",
   "metadata": {},
   "outputs": [],
   "source": [
    "import pandas as pd \n",
    "import numpy as np\n",
    "import matplotlib.pyplot as plt"
   ]
  },
  {
   "cell_type": "code",
   "execution_count": 13,
   "id": "b2c2c17a-cc67-45b1-9813-e4eb15a121f1",
   "metadata": {},
   "outputs": [],
   "source": [
    "# reading in the data \n",
    "nflx_top = pd.read_excel(\"Downloads/NFLX_DS_data_8_23.xlsx\", sheet_name = 'NFLX Top 10')\n",
    "rating = pd.read_excel(\"Downloads/NFLX_DS_data_8_23.xlsx\", sheet_name = 'IMDb Rating')\n",
    "runtime = pd. read_excel(\"Downloads/NFLX_DS_data_8_23.xlsx\", sheet_name = 'Runtime')"
   ]
  },
  {
   "cell_type": "markdown",
   "id": "f8e1e168-bfe7-42ee-9f82-25399c7ab564",
   "metadata": {},
   "source": [
    "Checking that the data was read in correctly we can take a look at the first five values of each of the datasets and see that there were no errors in reading the data in."
   ]
  },
  {
   "cell_type": "code",
   "execution_count": 14,
   "id": "9d8b0ded-88cc-4930-b8a7-da2e6bf005a4",
   "metadata": {},
   "outputs": [
    {
     "data": {
      "text/html": [
       "<div>\n",
       "<style scoped>\n",
       "    .dataframe tbody tr th:only-of-type {\n",
       "        vertical-align: middle;\n",
       "    }\n",
       "\n",
       "    .dataframe tbody tr th {\n",
       "        vertical-align: top;\n",
       "    }\n",
       "\n",
       "    .dataframe thead th {\n",
       "        text-align: right;\n",
       "    }\n",
       "</style>\n",
       "<table border=\"1\" class=\"dataframe\">\n",
       "  <thead>\n",
       "    <tr style=\"text-align: right;\">\n",
       "      <th></th>\n",
       "      <th>category</th>\n",
       "      <th>cumulative_weeks_in_top_10</th>\n",
       "      <th>weekly_hours_viewed</th>\n",
       "      <th>season_title</th>\n",
       "      <th>weekly_rank</th>\n",
       "      <th>show_title</th>\n",
       "      <th>date_added</th>\n",
       "      <th>week</th>\n",
       "    </tr>\n",
       "  </thead>\n",
       "  <tbody>\n",
       "    <tr>\n",
       "      <th>0</th>\n",
       "      <td>Films (English)</td>\n",
       "      <td>2</td>\n",
       "      <td>129110000</td>\n",
       "      <td>NaN</td>\n",
       "      <td>1</td>\n",
       "      <td>Red Notice</td>\n",
       "      <td>2022-01-04</td>\n",
       "      <td>2021-11-21</td>\n",
       "    </tr>\n",
       "    <tr>\n",
       "      <th>1</th>\n",
       "      <td>Films (English)</td>\n",
       "      <td>1</td>\n",
       "      <td>20480000</td>\n",
       "      <td>NaN</td>\n",
       "      <td>2</td>\n",
       "      <td>There's Someone Inside Your House</td>\n",
       "      <td>2022-01-04</td>\n",
       "      <td>2021-10-10</td>\n",
       "    </tr>\n",
       "    <tr>\n",
       "      <th>2</th>\n",
       "      <td>TV (Non-English)</td>\n",
       "      <td>1</td>\n",
       "      <td>10140000</td>\n",
       "      <td>Elite: Season 2</td>\n",
       "      <td>8</td>\n",
       "      <td>Elite</td>\n",
       "      <td>2022-01-04</td>\n",
       "      <td>2021-07-04</td>\n",
       "    </tr>\n",
       "    <tr>\n",
       "      <th>3</th>\n",
       "      <td>TV (English)</td>\n",
       "      <td>2</td>\n",
       "      <td>58960000</td>\n",
       "      <td>Love Is Blind: Season 2</td>\n",
       "      <td>2</td>\n",
       "      <td>Love Is Blind</td>\n",
       "      <td>2022-02-22</td>\n",
       "      <td>2022-02-20</td>\n",
       "    </tr>\n",
       "    <tr>\n",
       "      <th>4</th>\n",
       "      <td>TV (English)</td>\n",
       "      <td>5</td>\n",
       "      <td>10480000</td>\n",
       "      <td>All American: Season 3</td>\n",
       "      <td>9</td>\n",
       "      <td>All American</td>\n",
       "      <td>2022-01-04</td>\n",
       "      <td>2021-08-29</td>\n",
       "    </tr>\n",
       "  </tbody>\n",
       "</table>\n",
       "</div>"
      ],
      "text/plain": [
       "           category  cumulative_weeks_in_top_10  weekly_hours_viewed  \\\n",
       "0   Films (English)                           2            129110000   \n",
       "1   Films (English)                           1             20480000   \n",
       "2  TV (Non-English)                           1             10140000   \n",
       "3      TV (English)                           2             58960000   \n",
       "4      TV (English)                           5             10480000   \n",
       "\n",
       "              season_title  weekly_rank                         show_title  \\\n",
       "0                      NaN            1                         Red Notice   \n",
       "1                      NaN            2  There's Someone Inside Your House   \n",
       "2          Elite: Season 2            8                              Elite   \n",
       "3  Love Is Blind: Season 2            2                      Love Is Blind   \n",
       "4   All American: Season 3            9                       All American   \n",
       "\n",
       "  date_added       week  \n",
       "0 2022-01-04 2021-11-21  \n",
       "1 2022-01-04 2021-10-10  \n",
       "2 2022-01-04 2021-07-04  \n",
       "3 2022-02-22 2022-02-20  \n",
       "4 2022-01-04 2021-08-29  "
      ]
     },
     "execution_count": 14,
     "metadata": {},
     "output_type": "execute_result"
    }
   ],
   "source": [
    "nflx_top.head()"
   ]
  },
  {
   "cell_type": "code",
   "execution_count": 15,
   "id": "fce169e5-8f96-4a6c-a247-41876d2ce5ae",
   "metadata": {},
   "outputs": [
    {
     "data": {
      "text/html": [
       "<div>\n",
       "<style scoped>\n",
       "    .dataframe tbody tr th:only-of-type {\n",
       "        vertical-align: middle;\n",
       "    }\n",
       "\n",
       "    .dataframe tbody tr th {\n",
       "        vertical-align: top;\n",
       "    }\n",
       "\n",
       "    .dataframe thead th {\n",
       "        text-align: right;\n",
       "    }\n",
       "</style>\n",
       "<table border=\"1\" class=\"dataframe\">\n",
       "  <thead>\n",
       "    <tr style=\"text-align: right;\">\n",
       "      <th></th>\n",
       "      <th>title</th>\n",
       "      <th>rating</th>\n",
       "    </tr>\n",
       "  </thead>\n",
       "  <tbody>\n",
       "    <tr>\n",
       "      <th>0</th>\n",
       "      <td>Supergirl</td>\n",
       "      <td>4.4</td>\n",
       "    </tr>\n",
       "    <tr>\n",
       "      <th>1</th>\n",
       "      <td>Laws of Attraction</td>\n",
       "      <td>0.0</td>\n",
       "    </tr>\n",
       "    <tr>\n",
       "      <th>2</th>\n",
       "      <td>Diary of a Wimpy Kid: The Long Haul</td>\n",
       "      <td>4.2</td>\n",
       "    </tr>\n",
       "    <tr>\n",
       "      <th>3</th>\n",
       "      <td>Riding in Cars with Boys</td>\n",
       "      <td>6.5</td>\n",
       "    </tr>\n",
       "    <tr>\n",
       "      <th>4</th>\n",
       "      <td>Crisis: Special Security Squad</td>\n",
       "      <td>6.3</td>\n",
       "    </tr>\n",
       "  </tbody>\n",
       "</table>\n",
       "</div>"
      ],
      "text/plain": [
       "                                 title  rating\n",
       "0                            Supergirl     4.4\n",
       "1                   Laws of Attraction     0.0\n",
       "2  Diary of a Wimpy Kid: The Long Haul     4.2\n",
       "3             Riding in Cars with Boys     6.5\n",
       "4       Crisis: Special Security Squad     6.3"
      ]
     },
     "execution_count": 15,
     "metadata": {},
     "output_type": "execute_result"
    }
   ],
   "source": [
    "rating.head()"
   ]
  },
  {
   "cell_type": "code",
   "execution_count": 16,
   "id": "42f14b4c-f0fa-456e-b6a6-76bd4b61af81",
   "metadata": {},
   "outputs": [
    {
     "data": {
      "text/html": [
       "<div>\n",
       "<style scoped>\n",
       "    .dataframe tbody tr th:only-of-type {\n",
       "        vertical-align: middle;\n",
       "    }\n",
       "\n",
       "    .dataframe tbody tr th {\n",
       "        vertical-align: top;\n",
       "    }\n",
       "\n",
       "    .dataframe thead th {\n",
       "        text-align: right;\n",
       "    }\n",
       "</style>\n",
       "<table border=\"1\" class=\"dataframe\">\n",
       "  <thead>\n",
       "    <tr style=\"text-align: right;\">\n",
       "      <th></th>\n",
       "      <th>title</th>\n",
       "      <th>runtime</th>\n",
       "    </tr>\n",
       "  </thead>\n",
       "  <tbody>\n",
       "    <tr>\n",
       "      <th>0</th>\n",
       "      <td>Upstart Crow</td>\n",
       "      <td>29</td>\n",
       "    </tr>\n",
       "    <tr>\n",
       "      <th>1</th>\n",
       "      <td>Broadchurch</td>\n",
       "      <td>48</td>\n",
       "    </tr>\n",
       "    <tr>\n",
       "      <th>2</th>\n",
       "      <td>Har Kisse Ke Hisse: Kaamyaab</td>\n",
       "      <td>109</td>\n",
       "    </tr>\n",
       "    <tr>\n",
       "      <th>3</th>\n",
       "      <td>Ronaldo Vs Messi: Face Off!</td>\n",
       "      <td>67</td>\n",
       "    </tr>\n",
       "    <tr>\n",
       "      <th>4</th>\n",
       "      <td>ドラゴンボールZ 超戦士撃破!!勝つのはオレだ</td>\n",
       "      <td>47</td>\n",
       "    </tr>\n",
       "  </tbody>\n",
       "</table>\n",
       "</div>"
      ],
      "text/plain": [
       "                          title  runtime\n",
       "0                  Upstart Crow       29\n",
       "1                   Broadchurch       48\n",
       "2  Har Kisse Ke Hisse: Kaamyaab      109\n",
       "3   Ronaldo Vs Messi: Face Off!       67\n",
       "4       ドラゴンボールZ 超戦士撃破!!勝つのはオレだ       47"
      ]
     },
     "execution_count": 16,
     "metadata": {},
     "output_type": "execute_result"
    }
   ],
   "source": [
    "runtime.head()"
   ]
  },
  {
   "cell_type": "code",
   "execution_count": 18,
   "id": "95e2f838-6388-4ac8-8360-17768d4c6862",
   "metadata": {},
   "outputs": [
    {
     "name": "stdout",
     "output_type": "stream",
     "text": [
      "<class 'pandas.core.frame.DataFrame'>\n",
      "RangeIndex: 1440 entries, 0 to 1439\n",
      "Data columns (total 8 columns):\n",
      " #   Column                      Non-Null Count  Dtype         \n",
      "---  ------                      --------------  -----         \n",
      " 0   category                    1440 non-null   object        \n",
      " 1   cumulative_weeks_in_top_10  1440 non-null   int64         \n",
      " 2   weekly_hours_viewed         1440 non-null   int64         \n",
      " 3   season_title                708 non-null    object        \n",
      " 4   weekly_rank                 1440 non-null   int64         \n",
      " 5   show_title                  1440 non-null   object        \n",
      " 6   date_added                  1440 non-null   datetime64[ns]\n",
      " 7   week                        1440 non-null   datetime64[ns]\n",
      "dtypes: datetime64[ns](2), int64(3), object(3)\n",
      "memory usage: 90.1+ KB\n"
     ]
    }
   ],
   "source": [
    "nflx_top.info()"
   ]
  },
  {
   "cell_type": "markdown",
   "id": "f95e7efe-810c-449d-918b-bba082a9ae08",
   "metadata": {},
   "source": [
    "## TV Show (English)"
   ]
  },
  {
   "cell_type": "markdown",
   "id": "ebdeeb5c-10e1-4109-89e3-757e26ec8251",
   "metadata": {},
   "source": [
    "Identify the TV Show(English) with the most appearances in the top 10 list(treat each row in the data as separate appearances). What were the average weekly viewed hours for that show across all appearances?"
   ]
  },
  {
   "cell_type": "markdown",
   "id": "fd359027-91e9-453f-9b9c-d22485573c80",
   "metadata": {},
   "source": [
    "First lets sort our dataset, for now we are only interested in the category TV (English) therefore lets extract that information from our data."
   ]
  },
  {
   "cell_type": "code",
   "execution_count": 33,
   "id": "98b57b4b-715d-4c1c-b30b-d27931ba8af7",
   "metadata": {},
   "outputs": [
    {
     "data": {
      "text/html": [
       "<div>\n",
       "<style scoped>\n",
       "    .dataframe tbody tr th:only-of-type {\n",
       "        vertical-align: middle;\n",
       "    }\n",
       "\n",
       "    .dataframe tbody tr th {\n",
       "        vertical-align: top;\n",
       "    }\n",
       "\n",
       "    .dataframe thead th {\n",
       "        text-align: right;\n",
       "    }\n",
       "</style>\n",
       "<table border=\"1\" class=\"dataframe\">\n",
       "  <thead>\n",
       "    <tr style=\"text-align: right;\">\n",
       "      <th></th>\n",
       "      <th>category</th>\n",
       "      <th>cumulative_weeks_in_top_10</th>\n",
       "      <th>weekly_hours_viewed</th>\n",
       "      <th>season_title</th>\n",
       "      <th>weekly_rank</th>\n",
       "      <th>show_title</th>\n",
       "      <th>date_added</th>\n",
       "      <th>week</th>\n",
       "    </tr>\n",
       "  </thead>\n",
       "  <tbody>\n",
       "    <tr>\n",
       "      <th>3</th>\n",
       "      <td>TV (English)</td>\n",
       "      <td>2</td>\n",
       "      <td>58960000</td>\n",
       "      <td>Love Is Blind: Season 2</td>\n",
       "      <td>2</td>\n",
       "      <td>Love Is Blind</td>\n",
       "      <td>2022-02-22</td>\n",
       "      <td>2022-02-20</td>\n",
       "    </tr>\n",
       "    <tr>\n",
       "      <th>4</th>\n",
       "      <td>TV (English)</td>\n",
       "      <td>5</td>\n",
       "      <td>10480000</td>\n",
       "      <td>All American: Season 3</td>\n",
       "      <td>9</td>\n",
       "      <td>All American</td>\n",
       "      <td>2022-01-04</td>\n",
       "      <td>2021-08-29</td>\n",
       "    </tr>\n",
       "    <tr>\n",
       "      <th>20</th>\n",
       "      <td>TV (English)</td>\n",
       "      <td>4</td>\n",
       "      <td>18770000</td>\n",
       "      <td>Locke &amp; Key: Season 2</td>\n",
       "      <td>7</td>\n",
       "      <td>Locke &amp; Key</td>\n",
       "      <td>2022-01-04</td>\n",
       "      <td>2021-11-14</td>\n",
       "    </tr>\n",
       "    <tr>\n",
       "      <th>21</th>\n",
       "      <td>TV (English)</td>\n",
       "      <td>1</td>\n",
       "      <td>86730000</td>\n",
       "      <td>Sex/Life: Season 1</td>\n",
       "      <td>1</td>\n",
       "      <td>Sex/Life</td>\n",
       "      <td>2022-01-04</td>\n",
       "      <td>2021-07-04</td>\n",
       "    </tr>\n",
       "    <tr>\n",
       "      <th>29</th>\n",
       "      <td>TV (English)</td>\n",
       "      <td>2</td>\n",
       "      <td>29680000</td>\n",
       "      <td>Atypical: Season 4</td>\n",
       "      <td>4</td>\n",
       "      <td>Atypical</td>\n",
       "      <td>2022-01-04</td>\n",
       "      <td>2021-07-18</td>\n",
       "    </tr>\n",
       "  </tbody>\n",
       "</table>\n",
       "</div>"
      ],
      "text/plain": [
       "        category  cumulative_weeks_in_top_10  weekly_hours_viewed  \\\n",
       "3   TV (English)                           2             58960000   \n",
       "4   TV (English)                           5             10480000   \n",
       "20  TV (English)                           4             18770000   \n",
       "21  TV (English)                           1             86730000   \n",
       "29  TV (English)                           2             29680000   \n",
       "\n",
       "               season_title  weekly_rank     show_title date_added       week  \n",
       "3   Love Is Blind: Season 2            2  Love Is Blind 2022-02-22 2022-02-20  \n",
       "4    All American: Season 3            9   All American 2022-01-04 2021-08-29  \n",
       "20    Locke & Key: Season 2            7    Locke & Key 2022-01-04 2021-11-14  \n",
       "21       Sex/Life: Season 1            1       Sex/Life 2022-01-04 2021-07-04  \n",
       "29       Atypical: Season 4            4       Atypical 2022-01-04 2021-07-18  "
      ]
     },
     "execution_count": 33,
     "metadata": {},
     "output_type": "execute_result"
    }
   ],
   "source": [
    "english_tv = nflx_top['category'] == \"TV (English)\"\n",
    "english_tv = nflx_top[english_tv]\n",
    "\n",
    "english_tv.head()"
   ]
  },
  {
   "cell_type": "markdown",
   "id": "f46c26fe-5483-4330-afce-99488ed6dd97",
   "metadata": {},
   "source": [
    "Now we want to select the tv show that had the most appearances in the top 10 list. To do this we will first group by the title of the show and count the number of appearances for each show. Then we can take the show that has the most appearances."
   ]
  },
  {
   "cell_type": "code",
   "execution_count": 34,
   "id": "ae4b61b3-f236-4c93-b76b-64f5ed8accfa",
   "metadata": {},
   "outputs": [],
   "source": [
    "count = english_tv['show_title'].value_counts()"
   ]
  },
  {
   "cell_type": "code",
   "execution_count": 35,
   "id": "b577d99f-8f1e-4606-9b38-69598bac3870",
   "metadata": {},
   "outputs": [],
   "source": [
    "most_counts = count.idxmax()"
   ]
  },
  {
   "cell_type": "code",
   "execution_count": 36,
   "id": "86a59e8d-808f-4464-8b26-719d40e5f7f9",
   "metadata": {},
   "outputs": [
    {
     "data": {
      "text/plain": [
       "'You'"
      ]
     },
     "execution_count": 36,
     "metadata": {},
     "output_type": "execute_result"
    }
   ],
   "source": [
    "most_counts"
   ]
  },
  {
   "cell_type": "code",
   "execution_count": 45,
   "id": "9c95f227-d7ff-4ecc-b4c8-1913a72f8991",
   "metadata": {},
   "outputs": [
    {
     "data": {
      "text/html": [
       "<div>\n",
       "<style scoped>\n",
       "    .dataframe tbody tr th:only-of-type {\n",
       "        vertical-align: middle;\n",
       "    }\n",
       "\n",
       "    .dataframe tbody tr th {\n",
       "        vertical-align: top;\n",
       "    }\n",
       "\n",
       "    .dataframe thead th {\n",
       "        text-align: right;\n",
       "    }\n",
       "</style>\n",
       "<table border=\"1\" class=\"dataframe\">\n",
       "  <thead>\n",
       "    <tr style=\"text-align: right;\">\n",
       "      <th></th>\n",
       "      <th>category</th>\n",
       "      <th>cumulative_weeks_in_top_10</th>\n",
       "      <th>weekly_hours_viewed</th>\n",
       "      <th>season_title</th>\n",
       "      <th>weekly_rank</th>\n",
       "      <th>show_title</th>\n",
       "      <th>date_added</th>\n",
       "      <th>week</th>\n",
       "    </tr>\n",
       "  </thead>\n",
       "  <tbody>\n",
       "    <tr>\n",
       "      <th>144</th>\n",
       "      <td>TV (English)</td>\n",
       "      <td>4</td>\n",
       "      <td>52590000</td>\n",
       "      <td>You: Season 3</td>\n",
       "      <td>1</td>\n",
       "      <td>You</td>\n",
       "      <td>2022-01-04</td>\n",
       "      <td>2021-11-07</td>\n",
       "    </tr>\n",
       "    <tr>\n",
       "      <th>181</th>\n",
       "      <td>TV (English)</td>\n",
       "      <td>1</td>\n",
       "      <td>23050000</td>\n",
       "      <td>You: Season 1</td>\n",
       "      <td>5</td>\n",
       "      <td>You</td>\n",
       "      <td>2022-01-04</td>\n",
       "      <td>2021-10-17</td>\n",
       "    </tr>\n",
       "    <tr>\n",
       "      <th>186</th>\n",
       "      <td>TV (English)</td>\n",
       "      <td>2</td>\n",
       "      <td>179000000</td>\n",
       "      <td>You: Season 3</td>\n",
       "      <td>1</td>\n",
       "      <td>You</td>\n",
       "      <td>2022-01-04</td>\n",
       "      <td>2021-10-24</td>\n",
       "    </tr>\n",
       "    <tr>\n",
       "      <th>232</th>\n",
       "      <td>TV (English)</td>\n",
       "      <td>1</td>\n",
       "      <td>133120000</td>\n",
       "      <td>You: Season 3</td>\n",
       "      <td>1</td>\n",
       "      <td>You</td>\n",
       "      <td>2022-01-04</td>\n",
       "      <td>2021-10-17</td>\n",
       "    </tr>\n",
       "    <tr>\n",
       "      <th>286</th>\n",
       "      <td>TV (English)</td>\n",
       "      <td>8</td>\n",
       "      <td>12490000</td>\n",
       "      <td>You: Season 3</td>\n",
       "      <td>10</td>\n",
       "      <td>You</td>\n",
       "      <td>2022-01-04</td>\n",
       "      <td>2021-12-05</td>\n",
       "    </tr>\n",
       "    <tr>\n",
       "      <th>288</th>\n",
       "      <td>TV (English)</td>\n",
       "      <td>7</td>\n",
       "      <td>17070000</td>\n",
       "      <td>You: Season 3</td>\n",
       "      <td>7</td>\n",
       "      <td>You</td>\n",
       "      <td>2022-01-04</td>\n",
       "      <td>2021-11-28</td>\n",
       "    </tr>\n",
       "    <tr>\n",
       "      <th>318</th>\n",
       "      <td>TV (English)</td>\n",
       "      <td>5</td>\n",
       "      <td>11670000</td>\n",
       "      <td>You: Season 2</td>\n",
       "      <td>9</td>\n",
       "      <td>You</td>\n",
       "      <td>2022-01-04</td>\n",
       "      <td>2021-11-21</td>\n",
       "    </tr>\n",
       "    <tr>\n",
       "      <th>447</th>\n",
       "      <td>TV (English)</td>\n",
       "      <td>3</td>\n",
       "      <td>29880000</td>\n",
       "      <td>You: Season 1</td>\n",
       "      <td>6</td>\n",
       "      <td>You</td>\n",
       "      <td>2022-01-04</td>\n",
       "      <td>2021-10-31</td>\n",
       "    </tr>\n",
       "    <tr>\n",
       "      <th>602</th>\n",
       "      <td>TV (English)</td>\n",
       "      <td>6</td>\n",
       "      <td>23460000</td>\n",
       "      <td>You: Season 3</td>\n",
       "      <td>5</td>\n",
       "      <td>You</td>\n",
       "      <td>2022-01-04</td>\n",
       "      <td>2021-11-21</td>\n",
       "    </tr>\n",
       "    <tr>\n",
       "      <th>621</th>\n",
       "      <td>TV (English)</td>\n",
       "      <td>4</td>\n",
       "      <td>20910000</td>\n",
       "      <td>You: Season 1</td>\n",
       "      <td>8</td>\n",
       "      <td>You</td>\n",
       "      <td>2022-01-04</td>\n",
       "      <td>2021-11-07</td>\n",
       "    </tr>\n",
       "    <tr>\n",
       "      <th>654</th>\n",
       "      <td>TV (English)</td>\n",
       "      <td>5</td>\n",
       "      <td>14570000</td>\n",
       "      <td>You: Season 1</td>\n",
       "      <td>10</td>\n",
       "      <td>You</td>\n",
       "      <td>2022-01-04</td>\n",
       "      <td>2021-11-14</td>\n",
       "    </tr>\n",
       "    <tr>\n",
       "      <th>709</th>\n",
       "      <td>TV (English)</td>\n",
       "      <td>1</td>\n",
       "      <td>33120000</td>\n",
       "      <td>You: Season 2</td>\n",
       "      <td>5</td>\n",
       "      <td>You</td>\n",
       "      <td>2022-01-04</td>\n",
       "      <td>2021-10-24</td>\n",
       "    </tr>\n",
       "    <tr>\n",
       "      <th>727</th>\n",
       "      <td>TV (English)</td>\n",
       "      <td>5</td>\n",
       "      <td>33720000</td>\n",
       "      <td>You: Season 3</td>\n",
       "      <td>3</td>\n",
       "      <td>You</td>\n",
       "      <td>2022-01-04</td>\n",
       "      <td>2021-11-14</td>\n",
       "    </tr>\n",
       "    <tr>\n",
       "      <th>1188</th>\n",
       "      <td>TV (English)</td>\n",
       "      <td>2</td>\n",
       "      <td>44810000</td>\n",
       "      <td>You: Season 1</td>\n",
       "      <td>3</td>\n",
       "      <td>You</td>\n",
       "      <td>2022-01-04</td>\n",
       "      <td>2021-10-24</td>\n",
       "    </tr>\n",
       "    <tr>\n",
       "      <th>1236</th>\n",
       "      <td>TV (English)</td>\n",
       "      <td>3</td>\n",
       "      <td>82790000</td>\n",
       "      <td>You: Season 3</td>\n",
       "      <td>1</td>\n",
       "      <td>You</td>\n",
       "      <td>2022-01-04</td>\n",
       "      <td>2021-10-31</td>\n",
       "    </tr>\n",
       "    <tr>\n",
       "      <th>1321</th>\n",
       "      <td>TV (English)</td>\n",
       "      <td>2</td>\n",
       "      <td>28050000</td>\n",
       "      <td>You: Season 2</td>\n",
       "      <td>7</td>\n",
       "      <td>You</td>\n",
       "      <td>2022-01-04</td>\n",
       "      <td>2021-10-31</td>\n",
       "    </tr>\n",
       "    <tr>\n",
       "      <th>1350</th>\n",
       "      <td>TV (English)</td>\n",
       "      <td>3</td>\n",
       "      <td>21660000</td>\n",
       "      <td>You: Season 2</td>\n",
       "      <td>6</td>\n",
       "      <td>You</td>\n",
       "      <td>2022-01-04</td>\n",
       "      <td>2021-11-07</td>\n",
       "    </tr>\n",
       "    <tr>\n",
       "      <th>1355</th>\n",
       "      <td>TV (English)</td>\n",
       "      <td>4</td>\n",
       "      <td>15520000</td>\n",
       "      <td>You: Season 2</td>\n",
       "      <td>9</td>\n",
       "      <td>You</td>\n",
       "      <td>2022-01-04</td>\n",
       "      <td>2021-11-14</td>\n",
       "    </tr>\n",
       "  </tbody>\n",
       "</table>\n",
       "</div>"
      ],
      "text/plain": [
       "          category  cumulative_weeks_in_top_10  weekly_hours_viewed  \\\n",
       "144   TV (English)                           4             52590000   \n",
       "181   TV (English)                           1             23050000   \n",
       "186   TV (English)                           2            179000000   \n",
       "232   TV (English)                           1            133120000   \n",
       "286   TV (English)                           8             12490000   \n",
       "288   TV (English)                           7             17070000   \n",
       "318   TV (English)                           5             11670000   \n",
       "447   TV (English)                           3             29880000   \n",
       "602   TV (English)                           6             23460000   \n",
       "621   TV (English)                           4             20910000   \n",
       "654   TV (English)                           5             14570000   \n",
       "709   TV (English)                           1             33120000   \n",
       "727   TV (English)                           5             33720000   \n",
       "1188  TV (English)                           2             44810000   \n",
       "1236  TV (English)                           3             82790000   \n",
       "1321  TV (English)                           2             28050000   \n",
       "1350  TV (English)                           3             21660000   \n",
       "1355  TV (English)                           4             15520000   \n",
       "\n",
       "       season_title  weekly_rank show_title date_added       week  \n",
       "144   You: Season 3            1        You 2022-01-04 2021-11-07  \n",
       "181   You: Season 1            5        You 2022-01-04 2021-10-17  \n",
       "186   You: Season 3            1        You 2022-01-04 2021-10-24  \n",
       "232   You: Season 3            1        You 2022-01-04 2021-10-17  \n",
       "286   You: Season 3           10        You 2022-01-04 2021-12-05  \n",
       "288   You: Season 3            7        You 2022-01-04 2021-11-28  \n",
       "318   You: Season 2            9        You 2022-01-04 2021-11-21  \n",
       "447   You: Season 1            6        You 2022-01-04 2021-10-31  \n",
       "602   You: Season 3            5        You 2022-01-04 2021-11-21  \n",
       "621   You: Season 1            8        You 2022-01-04 2021-11-07  \n",
       "654   You: Season 1           10        You 2022-01-04 2021-11-14  \n",
       "709   You: Season 2            5        You 2022-01-04 2021-10-24  \n",
       "727   You: Season 3            3        You 2022-01-04 2021-11-14  \n",
       "1188  You: Season 1            3        You 2022-01-04 2021-10-24  \n",
       "1236  You: Season 3            1        You 2022-01-04 2021-10-31  \n",
       "1321  You: Season 2            7        You 2022-01-04 2021-10-31  \n",
       "1350  You: Season 2            6        You 2022-01-04 2021-11-07  \n",
       "1355  You: Season 2            9        You 2022-01-04 2021-11-14  "
      ]
     },
     "execution_count": 45,
     "metadata": {},
     "output_type": "execute_result"
    }
   ],
   "source": [
    "you_df = english_tv[english_tv['show_title'] == 'You']\n",
    "you_df"
   ]
  },
  {
   "cell_type": "markdown",
   "id": "2ea7a44b-e9b7-4b30-ba34-6aa6cae83089",
   "metadata": {},
   "source": [
    "From above we can see that the TV show (English) with the most appearances in the top 10 was the show You."
   ]
  },
  {
   "cell_type": "code",
   "execution_count": 49,
   "id": "d6945415-b82b-4c28-ae3d-5a83573b0ff0",
   "metadata": {},
   "outputs": [
    {
     "data": {
      "text/plain": [
       "43193333.333333336"
      ]
     },
     "execution_count": 49,
     "metadata": {},
     "output_type": "execute_result"
    }
   ],
   "source": [
    "average_hours = you_df['weekly_hours_viewed'].mean()\n",
    "average_hours"
   ]
  },
  {
   "cell_type": "markdown",
   "id": "817e868b-7354-42ed-ac77-881b43354077",
   "metadata": {},
   "source": [
    "Taking the mean of the column weekly hours viewed we can see that the average weekly viewed hours for You across all appearances was $43193333.333333336$"
   ]
  },
  {
   "cell_type": "markdown",
   "id": "e68047dc-0e5c-4f16-8cf8-a2a722b34d5f",
   "metadata": {},
   "source": [
    "## Films (Non- English)"
   ]
  },
  {
   "cell_type": "markdown",
   "id": "464a76b8-e400-4887-a6c6-d9b9142ddef5",
   "metadata": {},
   "source": [
    "For the \"Films(Non- English)\" category, identify the film with lowest IMDb rating. What were the average weekly hours viewed for that film?"
   ]
  },
  {
   "cell_type": "markdown",
   "id": "9ef1c3ba-60a2-45cc-8e02-da17be0e09ca",
   "metadata": {},
   "source": [
    "First we want to filter the Netflix Top 10 dataframe to only include data for Films (Non- English) and from there we can merge the dataframe we created to the IMDb ratings dataframe to find which film had the lowest rating. "
   ]
  },
  {
   "cell_type": "code",
   "execution_count": 50,
   "id": "46db3dd4-c5f1-4441-ba55-53b76aed967e",
   "metadata": {},
   "outputs": [
    {
     "data": {
      "text/html": [
       "<div>\n",
       "<style scoped>\n",
       "    .dataframe tbody tr th:only-of-type {\n",
       "        vertical-align: middle;\n",
       "    }\n",
       "\n",
       "    .dataframe tbody tr th {\n",
       "        vertical-align: top;\n",
       "    }\n",
       "\n",
       "    .dataframe thead th {\n",
       "        text-align: right;\n",
       "    }\n",
       "</style>\n",
       "<table border=\"1\" class=\"dataframe\">\n",
       "  <thead>\n",
       "    <tr style=\"text-align: right;\">\n",
       "      <th></th>\n",
       "      <th>category</th>\n",
       "      <th>cumulative_weeks_in_top_10</th>\n",
       "      <th>weekly_hours_viewed</th>\n",
       "      <th>season_title</th>\n",
       "      <th>weekly_rank</th>\n",
       "      <th>show_title</th>\n",
       "      <th>date_added</th>\n",
       "      <th>week</th>\n",
       "    </tr>\n",
       "  </thead>\n",
       "  <tbody>\n",
       "    <tr>\n",
       "      <th>11</th>\n",
       "      <td>Films (Non-English)</td>\n",
       "      <td>2</td>\n",
       "      <td>6760000</td>\n",
       "      <td>NaN</td>\n",
       "      <td>5</td>\n",
       "      <td>The Privilege</td>\n",
       "      <td>2022-02-22</td>\n",
       "      <td>2022-02-20</td>\n",
       "    </tr>\n",
       "    <tr>\n",
       "      <th>12</th>\n",
       "      <td>Films (Non-English)</td>\n",
       "      <td>3</td>\n",
       "      <td>2000000</td>\n",
       "      <td>NaN</td>\n",
       "      <td>9</td>\n",
       "      <td>Lulli</td>\n",
       "      <td>2022-01-18</td>\n",
       "      <td>2022-01-16</td>\n",
       "    </tr>\n",
       "    <tr>\n",
       "      <th>14</th>\n",
       "      <td>Films (Non-English)</td>\n",
       "      <td>2</td>\n",
       "      <td>7420000</td>\n",
       "      <td>NaN</td>\n",
       "      <td>4</td>\n",
       "      <td>Love and Leashes</td>\n",
       "      <td>2022-02-22</td>\n",
       "      <td>2022-02-20</td>\n",
       "    </tr>\n",
       "    <tr>\n",
       "      <th>16</th>\n",
       "      <td>Films (Non-English)</td>\n",
       "      <td>3</td>\n",
       "      <td>7190000</td>\n",
       "      <td>NaN</td>\n",
       "      <td>5</td>\n",
       "      <td>Major Grom: Plague Doctor</td>\n",
       "      <td>2022-01-04</td>\n",
       "      <td>2021-07-25</td>\n",
       "    </tr>\n",
       "    <tr>\n",
       "      <th>17</th>\n",
       "      <td>Films (Non-English)</td>\n",
       "      <td>1</td>\n",
       "      <td>7370000</td>\n",
       "      <td>NaN</td>\n",
       "      <td>2</td>\n",
       "      <td>Haseen Dillruba</td>\n",
       "      <td>2022-01-04</td>\n",
       "      <td>2021-07-04</td>\n",
       "    </tr>\n",
       "  </tbody>\n",
       "</table>\n",
       "</div>"
      ],
      "text/plain": [
       "               category  cumulative_weeks_in_top_10  weekly_hours_viewed  \\\n",
       "11  Films (Non-English)                           2              6760000   \n",
       "12  Films (Non-English)                           3              2000000   \n",
       "14  Films (Non-English)                           2              7420000   \n",
       "16  Films (Non-English)                           3              7190000   \n",
       "17  Films (Non-English)                           1              7370000   \n",
       "\n",
       "   season_title  weekly_rank                 show_title date_added       week  \n",
       "11          NaN            5              The Privilege 2022-02-22 2022-02-20  \n",
       "12          NaN            9                      Lulli 2022-01-18 2022-01-16  \n",
       "14          NaN            4           Love and Leashes 2022-02-22 2022-02-20  \n",
       "16          NaN            5  Major Grom: Plague Doctor 2022-01-04 2021-07-25  \n",
       "17          NaN            2            Haseen Dillruba 2022-01-04 2021-07-04  "
      ]
     },
     "execution_count": 50,
     "metadata": {},
     "output_type": "execute_result"
    }
   ],
   "source": [
    "film_noneng = nflx_top['category'] == \"Films (Non-English)\"\n",
    "film_noneng = nflx_top[film_noneng]\n",
    "\n",
    "film_noneng.head()"
   ]
  },
  {
   "cell_type": "code",
   "execution_count": 52,
   "id": "d4b62fdb-083c-4d5c-b3cf-20b5bcaf70f3",
   "metadata": {},
   "outputs": [
    {
     "data": {
      "text/html": [
       "<div>\n",
       "<style scoped>\n",
       "    .dataframe tbody tr th:only-of-type {\n",
       "        vertical-align: middle;\n",
       "    }\n",
       "\n",
       "    .dataframe tbody tr th {\n",
       "        vertical-align: top;\n",
       "    }\n",
       "\n",
       "    .dataframe thead th {\n",
       "        text-align: right;\n",
       "    }\n",
       "</style>\n",
       "<table border=\"1\" class=\"dataframe\">\n",
       "  <thead>\n",
       "    <tr style=\"text-align: right;\">\n",
       "      <th></th>\n",
       "      <th>category</th>\n",
       "      <th>cumulative_weeks_in_top_10</th>\n",
       "      <th>weekly_hours_viewed</th>\n",
       "      <th>season_title</th>\n",
       "      <th>weekly_rank</th>\n",
       "      <th>show_title</th>\n",
       "      <th>date_added</th>\n",
       "      <th>week</th>\n",
       "      <th>title</th>\n",
       "      <th>rating</th>\n",
       "    </tr>\n",
       "  </thead>\n",
       "  <tbody>\n",
       "    <tr>\n",
       "      <th>0</th>\n",
       "      <td>Films (Non-English)</td>\n",
       "      <td>2</td>\n",
       "      <td>6760000</td>\n",
       "      <td>NaN</td>\n",
       "      <td>5</td>\n",
       "      <td>The Privilege</td>\n",
       "      <td>2022-02-22</td>\n",
       "      <td>2022-02-20</td>\n",
       "      <td>The Privilege</td>\n",
       "      <td>4.6</td>\n",
       "    </tr>\n",
       "    <tr>\n",
       "      <th>1</th>\n",
       "      <td>Films (Non-English)</td>\n",
       "      <td>1</td>\n",
       "      <td>18060000</td>\n",
       "      <td>NaN</td>\n",
       "      <td>2</td>\n",
       "      <td>The Privilege</td>\n",
       "      <td>2022-02-15</td>\n",
       "      <td>2022-02-13</td>\n",
       "      <td>The Privilege</td>\n",
       "      <td>4.6</td>\n",
       "    </tr>\n",
       "    <tr>\n",
       "      <th>2</th>\n",
       "      <td>Films (Non-English)</td>\n",
       "      <td>3</td>\n",
       "      <td>2000000</td>\n",
       "      <td>NaN</td>\n",
       "      <td>9</td>\n",
       "      <td>Lulli</td>\n",
       "      <td>2022-01-18</td>\n",
       "      <td>2022-01-16</td>\n",
       "      <td>Lulli</td>\n",
       "      <td>4.7</td>\n",
       "    </tr>\n",
       "    <tr>\n",
       "      <th>3</th>\n",
       "      <td>Films (Non-English)</td>\n",
       "      <td>1</td>\n",
       "      <td>15210000</td>\n",
       "      <td>NaN</td>\n",
       "      <td>1</td>\n",
       "      <td>Lulli</td>\n",
       "      <td>2022-01-04</td>\n",
       "      <td>2022-01-02</td>\n",
       "      <td>Lulli</td>\n",
       "      <td>4.7</td>\n",
       "    </tr>\n",
       "    <tr>\n",
       "      <th>4</th>\n",
       "      <td>Films (Non-English)</td>\n",
       "      <td>2</td>\n",
       "      <td>4020000</td>\n",
       "      <td>NaN</td>\n",
       "      <td>6</td>\n",
       "      <td>Lulli</td>\n",
       "      <td>2022-01-11</td>\n",
       "      <td>2022-01-09</td>\n",
       "      <td>Lulli</td>\n",
       "      <td>4.7</td>\n",
       "    </tr>\n",
       "  </tbody>\n",
       "</table>\n",
       "</div>"
      ],
      "text/plain": [
       "              category  cumulative_weeks_in_top_10  weekly_hours_viewed  \\\n",
       "0  Films (Non-English)                           2              6760000   \n",
       "1  Films (Non-English)                           1             18060000   \n",
       "2  Films (Non-English)                           3              2000000   \n",
       "3  Films (Non-English)                           1             15210000   \n",
       "4  Films (Non-English)                           2              4020000   \n",
       "\n",
       "  season_title  weekly_rank     show_title date_added       week  \\\n",
       "0          NaN            5  The Privilege 2022-02-22 2022-02-20   \n",
       "1          NaN            2  The Privilege 2022-02-15 2022-02-13   \n",
       "2          NaN            9          Lulli 2022-01-18 2022-01-16   \n",
       "3          NaN            1          Lulli 2022-01-04 2022-01-02   \n",
       "4          NaN            6          Lulli 2022-01-11 2022-01-09   \n",
       "\n",
       "           title  rating  \n",
       "0  The Privilege     4.6  \n",
       "1  The Privilege     4.6  \n",
       "2          Lulli     4.7  \n",
       "3          Lulli     4.7  \n",
       "4          Lulli     4.7  "
      ]
     },
     "execution_count": 52,
     "metadata": {},
     "output_type": "execute_result"
    }
   ],
   "source": [
    "merge_df = pd.merge(film_noneng, rating, left_on = 'show_title', right_on = 'title')\n",
    "merge_df.head()"
   ]
  },
  {
   "cell_type": "code",
   "execution_count": 58,
   "id": "5810cfbc-5b6c-41de-8531-e437d33e5c82",
   "metadata": {},
   "outputs": [
    {
     "data": {
      "text/html": [
       "<div>\n",
       "<style scoped>\n",
       "    .dataframe tbody tr th:only-of-type {\n",
       "        vertical-align: middle;\n",
       "    }\n",
       "\n",
       "    .dataframe tbody tr th {\n",
       "        vertical-align: top;\n",
       "    }\n",
       "\n",
       "    .dataframe thead th {\n",
       "        text-align: right;\n",
       "    }\n",
       "</style>\n",
       "<table border=\"1\" class=\"dataframe\">\n",
       "  <thead>\n",
       "    <tr style=\"text-align: right;\">\n",
       "      <th></th>\n",
       "      <th>category</th>\n",
       "      <th>cumulative_weeks_in_top_10</th>\n",
       "      <th>weekly_hours_viewed</th>\n",
       "      <th>season_title</th>\n",
       "      <th>weekly_rank</th>\n",
       "      <th>show_title</th>\n",
       "      <th>date_added</th>\n",
       "      <th>week</th>\n",
       "      <th>rating</th>\n",
       "    </tr>\n",
       "  </thead>\n",
       "  <tbody>\n",
       "    <tr>\n",
       "      <th>0</th>\n",
       "      <td>Films (Non-English)</td>\n",
       "      <td>2</td>\n",
       "      <td>6760000</td>\n",
       "      <td>NaN</td>\n",
       "      <td>5</td>\n",
       "      <td>The Privilege</td>\n",
       "      <td>2022-02-22</td>\n",
       "      <td>2022-02-20</td>\n",
       "      <td>4.6</td>\n",
       "    </tr>\n",
       "    <tr>\n",
       "      <th>1</th>\n",
       "      <td>Films (Non-English)</td>\n",
       "      <td>1</td>\n",
       "      <td>18060000</td>\n",
       "      <td>NaN</td>\n",
       "      <td>2</td>\n",
       "      <td>The Privilege</td>\n",
       "      <td>2022-02-15</td>\n",
       "      <td>2022-02-13</td>\n",
       "      <td>4.6</td>\n",
       "    </tr>\n",
       "    <tr>\n",
       "      <th>2</th>\n",
       "      <td>Films (Non-English)</td>\n",
       "      <td>3</td>\n",
       "      <td>2000000</td>\n",
       "      <td>NaN</td>\n",
       "      <td>9</td>\n",
       "      <td>Lulli</td>\n",
       "      <td>2022-01-18</td>\n",
       "      <td>2022-01-16</td>\n",
       "      <td>4.7</td>\n",
       "    </tr>\n",
       "    <tr>\n",
       "      <th>3</th>\n",
       "      <td>Films (Non-English)</td>\n",
       "      <td>1</td>\n",
       "      <td>15210000</td>\n",
       "      <td>NaN</td>\n",
       "      <td>1</td>\n",
       "      <td>Lulli</td>\n",
       "      <td>2022-01-04</td>\n",
       "      <td>2022-01-02</td>\n",
       "      <td>4.7</td>\n",
       "    </tr>\n",
       "    <tr>\n",
       "      <th>4</th>\n",
       "      <td>Films (Non-English)</td>\n",
       "      <td>2</td>\n",
       "      <td>4020000</td>\n",
       "      <td>NaN</td>\n",
       "      <td>6</td>\n",
       "      <td>Lulli</td>\n",
       "      <td>2022-01-11</td>\n",
       "      <td>2022-01-09</td>\n",
       "      <td>4.7</td>\n",
       "    </tr>\n",
       "  </tbody>\n",
       "</table>\n",
       "</div>"
      ],
      "text/plain": [
       "              category  cumulative_weeks_in_top_10  weekly_hours_viewed  \\\n",
       "0  Films (Non-English)                           2              6760000   \n",
       "1  Films (Non-English)                           1             18060000   \n",
       "2  Films (Non-English)                           3              2000000   \n",
       "3  Films (Non-English)                           1             15210000   \n",
       "4  Films (Non-English)                           2              4020000   \n",
       "\n",
       "  season_title  weekly_rank     show_title date_added       week  rating  \n",
       "0          NaN            5  The Privilege 2022-02-22 2022-02-20     4.6  \n",
       "1          NaN            2  The Privilege 2022-02-15 2022-02-13     4.6  \n",
       "2          NaN            9          Lulli 2022-01-18 2022-01-16     4.7  \n",
       "3          NaN            1          Lulli 2022-01-04 2022-01-02     4.7  \n",
       "4          NaN            6          Lulli 2022-01-11 2022-01-09     4.7  "
      ]
     },
     "execution_count": 58,
     "metadata": {},
     "output_type": "execute_result"
    }
   ],
   "source": [
    "merge_df = merge_df.drop(columns = 'title')\n",
    "merge_df.head()"
   ]
  },
  {
   "cell_type": "code",
   "execution_count": 59,
   "id": "6c3991c4-7e55-4dad-8565-7fbc8f452664",
   "metadata": {},
   "outputs": [
    {
     "data": {
      "text/plain": [
       "38"
      ]
     },
     "execution_count": 59,
     "metadata": {},
     "output_type": "execute_result"
    }
   ],
   "source": [
    "min_rating = merge_df['rating'].idxmin()\n",
    "min_rating"
   ]
  },
  {
   "cell_type": "code",
   "execution_count": 61,
   "id": "24f95250-b186-4fe5-aa8a-9c9f84623d24",
   "metadata": {},
   "outputs": [],
   "source": [
    "min_rating = merge_df.loc[min_rating]"
   ]
  },
  {
   "cell_type": "code",
   "execution_count": 62,
   "id": "0477cb69-6b82-4380-ac6f-e785b1fd5af0",
   "metadata": {},
   "outputs": [
    {
     "data": {
      "text/plain": [
       "category                      Films (Non-English)\n",
       "cumulative_weeks_in_top_10                      2\n",
       "weekly_hours_viewed                       1250000\n",
       "season_title                                  NaN\n",
       "weekly_rank                                     9\n",
       "show_title                                 Fierce\n",
       "date_added                    2022-02-08 00:00:00\n",
       "week                          2022-02-06 00:00:00\n",
       "rating                                        0.0\n",
       "Name: 38, dtype: object"
      ]
     },
     "execution_count": 62,
     "metadata": {},
     "output_type": "execute_result"
    }
   ],
   "source": [
    "min_rating"
   ]
  },
  {
   "cell_type": "code",
   "execution_count": 64,
   "id": "e2880706-9e1b-4179-ab3f-b62a0bb39158",
   "metadata": {},
   "outputs": [
    {
     "data": {
      "text/html": [
       "<div>\n",
       "<style scoped>\n",
       "    .dataframe tbody tr th:only-of-type {\n",
       "        vertical-align: middle;\n",
       "    }\n",
       "\n",
       "    .dataframe tbody tr th {\n",
       "        vertical-align: top;\n",
       "    }\n",
       "\n",
       "    .dataframe thead th {\n",
       "        text-align: right;\n",
       "    }\n",
       "</style>\n",
       "<table border=\"1\" class=\"dataframe\">\n",
       "  <thead>\n",
       "    <tr style=\"text-align: right;\">\n",
       "      <th></th>\n",
       "      <th>category</th>\n",
       "      <th>cumulative_weeks_in_top_10</th>\n",
       "      <th>weekly_hours_viewed</th>\n",
       "      <th>season_title</th>\n",
       "      <th>weekly_rank</th>\n",
       "      <th>show_title</th>\n",
       "      <th>date_added</th>\n",
       "      <th>week</th>\n",
       "      <th>rating</th>\n",
       "    </tr>\n",
       "  </thead>\n",
       "  <tbody>\n",
       "    <tr>\n",
       "      <th>38</th>\n",
       "      <td>Films (Non-English)</td>\n",
       "      <td>2</td>\n",
       "      <td>1250000</td>\n",
       "      <td>NaN</td>\n",
       "      <td>9</td>\n",
       "      <td>Fierce</td>\n",
       "      <td>2022-02-08</td>\n",
       "      <td>2022-02-06</td>\n",
       "      <td>0.0</td>\n",
       "    </tr>\n",
       "    <tr>\n",
       "      <th>39</th>\n",
       "      <td>Films (Non-English)</td>\n",
       "      <td>1</td>\n",
       "      <td>1800000</td>\n",
       "      <td>NaN</td>\n",
       "      <td>8</td>\n",
       "      <td>Fierce</td>\n",
       "      <td>2022-01-04</td>\n",
       "      <td>2021-11-14</td>\n",
       "      <td>0.0</td>\n",
       "    </tr>\n",
       "  </tbody>\n",
       "</table>\n",
       "</div>"
      ],
      "text/plain": [
       "               category  cumulative_weeks_in_top_10  weekly_hours_viewed  \\\n",
       "38  Films (Non-English)                           2              1250000   \n",
       "39  Films (Non-English)                           1              1800000   \n",
       "\n",
       "   season_title  weekly_rank show_title date_added       week  rating  \n",
       "38          NaN            9     Fierce 2022-02-08 2022-02-06     0.0  \n",
       "39          NaN            8     Fierce 2022-01-04 2021-11-14     0.0  "
      ]
     },
     "execution_count": 64,
     "metadata": {},
     "output_type": "execute_result"
    }
   ],
   "source": [
    "fierce_df = merge_df[merge_df['show_title'] == 'Fierce']\n",
    "fierce_df"
   ]
  },
  {
   "cell_type": "code",
   "execution_count": 65,
   "id": "0f813079-3eab-4ca6-b152-fed5f9cb8df5",
   "metadata": {},
   "outputs": [
    {
     "data": {
      "text/plain": [
       "1525000.0"
      ]
     },
     "execution_count": 65,
     "metadata": {},
     "output_type": "execute_result"
    }
   ],
   "source": [
    "avg_hours= fierce_df['weekly_hours_viewed'].mean()\n",
    "avg_hours"
   ]
  },
  {
   "cell_type": "markdown",
   "id": "1910dd7f-3db5-46d2-bc42-5d3974d97d11",
   "metadata": {},
   "source": [
    "The average weekly hours viewed for the film Fierce was $1525000$ hours"
   ]
  },
  {
   "cell_type": "markdown",
   "id": "99e1f555-d367-452e-a390-0044f0ed19fc",
   "metadata": {},
   "source": [
    "## Films (English)"
   ]
  },
  {
   "cell_type": "markdown",
   "id": "09ae2336-cf4a-4a6a-866b-86eecc9b8746",
   "metadata": {},
   "source": [
    "Identify the film in the \"Films (English)\" category with the most cumulative weeks in the top 10. How could you approximate how many users watched this show? What assumptions would you make? What risks are there to your approach? "
   ]
  },
  {
   "cell_type": "markdown",
   "id": "363095da-819a-48bd-a270-b4dc5cad4d11",
   "metadata": {},
   "source": [
    "First we want to only focus on the Films (English) data therfore we will again filter our NFLX Top 10 data to only include that data."
   ]
  },
  {
   "cell_type": "code",
   "execution_count": 66,
   "id": "501e4bbb-27da-4e7d-a458-6e57d6141bd9",
   "metadata": {},
   "outputs": [
    {
     "data": {
      "text/html": [
       "<div>\n",
       "<style scoped>\n",
       "    .dataframe tbody tr th:only-of-type {\n",
       "        vertical-align: middle;\n",
       "    }\n",
       "\n",
       "    .dataframe tbody tr th {\n",
       "        vertical-align: top;\n",
       "    }\n",
       "\n",
       "    .dataframe thead th {\n",
       "        text-align: right;\n",
       "    }\n",
       "</style>\n",
       "<table border=\"1\" class=\"dataframe\">\n",
       "  <thead>\n",
       "    <tr style=\"text-align: right;\">\n",
       "      <th></th>\n",
       "      <th>category</th>\n",
       "      <th>cumulative_weeks_in_top_10</th>\n",
       "      <th>weekly_hours_viewed</th>\n",
       "      <th>season_title</th>\n",
       "      <th>weekly_rank</th>\n",
       "      <th>show_title</th>\n",
       "      <th>date_added</th>\n",
       "      <th>week</th>\n",
       "    </tr>\n",
       "  </thead>\n",
       "  <tbody>\n",
       "    <tr>\n",
       "      <th>0</th>\n",
       "      <td>Films (English)</td>\n",
       "      <td>2</td>\n",
       "      <td>129110000</td>\n",
       "      <td>NaN</td>\n",
       "      <td>1</td>\n",
       "      <td>Red Notice</td>\n",
       "      <td>2022-01-04</td>\n",
       "      <td>2021-11-21</td>\n",
       "    </tr>\n",
       "    <tr>\n",
       "      <th>1</th>\n",
       "      <td>Films (English)</td>\n",
       "      <td>1</td>\n",
       "      <td>20480000</td>\n",
       "      <td>NaN</td>\n",
       "      <td>2</td>\n",
       "      <td>There's Someone Inside Your House</td>\n",
       "      <td>2022-01-04</td>\n",
       "      <td>2021-10-10</td>\n",
       "    </tr>\n",
       "    <tr>\n",
       "      <th>7</th>\n",
       "      <td>Films (English)</td>\n",
       "      <td>1</td>\n",
       "      <td>47700000</td>\n",
       "      <td>NaN</td>\n",
       "      <td>2</td>\n",
       "      <td>Bruised</td>\n",
       "      <td>2022-01-04</td>\n",
       "      <td>2021-11-28</td>\n",
       "    </tr>\n",
       "    <tr>\n",
       "      <th>9</th>\n",
       "      <td>Films (English)</td>\n",
       "      <td>1</td>\n",
       "      <td>10110000</td>\n",
       "      <td>NaN</td>\n",
       "      <td>6</td>\n",
       "      <td>The Secret Life of Pets</td>\n",
       "      <td>2022-01-04</td>\n",
       "      <td>2021-08-22</td>\n",
       "    </tr>\n",
       "    <tr>\n",
       "      <th>13</th>\n",
       "      <td>Films (English)</td>\n",
       "      <td>3</td>\n",
       "      <td>24750000</td>\n",
       "      <td>NaN</td>\n",
       "      <td>4</td>\n",
       "      <td>Back to the Outback</td>\n",
       "      <td>2022-01-04</td>\n",
       "      <td>2021-12-26</td>\n",
       "    </tr>\n",
       "  </tbody>\n",
       "</table>\n",
       "</div>"
      ],
      "text/plain": [
       "           category  cumulative_weeks_in_top_10  weekly_hours_viewed  \\\n",
       "0   Films (English)                           2            129110000   \n",
       "1   Films (English)                           1             20480000   \n",
       "7   Films (English)                           1             47700000   \n",
       "9   Films (English)                           1             10110000   \n",
       "13  Films (English)                           3             24750000   \n",
       "\n",
       "   season_title  weekly_rank                         show_title date_added  \\\n",
       "0           NaN            1                         Red Notice 2022-01-04   \n",
       "1           NaN            2  There's Someone Inside Your House 2022-01-04   \n",
       "7           NaN            2                            Bruised 2022-01-04   \n",
       "9           NaN            6            The Secret Life of Pets 2022-01-04   \n",
       "13          NaN            4                Back to the Outback 2022-01-04   \n",
       "\n",
       "         week  \n",
       "0  2021-11-21  \n",
       "1  2021-10-10  \n",
       "7  2021-11-28  \n",
       "9  2021-08-22  \n",
       "13 2021-12-26  "
      ]
     },
     "execution_count": 66,
     "metadata": {},
     "output_type": "execute_result"
    }
   ],
   "source": [
    "film_eng = nflx_top['category'] == \"Films (English)\"\n",
    "film_eng = nflx_top[film_eng]\n",
    "\n",
    "film_eng.head()"
   ]
  },
  {
   "cell_type": "code",
   "execution_count": 67,
   "id": "7e846923-e9da-4a91-ba8c-58fdaca6f7e2",
   "metadata": {},
   "outputs": [
    {
     "data": {
      "text/plain": [
       "'Red Notice'"
      ]
     },
     "execution_count": 67,
     "metadata": {},
     "output_type": "execute_result"
    }
   ],
   "source": [
    "count = film_eng['show_title'].value_counts() \n",
    "most_counts = count.idxmax()\n",
    "most_counts"
   ]
  },
  {
   "cell_type": "code",
   "execution_count": 70,
   "id": "f342e893-f039-4a73-a7ca-544ed76952dc",
   "metadata": {},
   "outputs": [
    {
     "data": {
      "text/plain": [
       "449"
      ]
     },
     "execution_count": 70,
     "metadata": {},
     "output_type": "execute_result"
    }
   ],
   "source": [
    "count = film_eng['cumulative_weeks_in_top_10'].idxmax()\n",
    "count"
   ]
  },
  {
   "cell_type": "code",
   "execution_count": 71,
   "id": "2be3461f-6020-4302-8239-a54b8593644f",
   "metadata": {},
   "outputs": [
    {
     "data": {
      "text/plain": [
       "category                          Films (English)\n",
       "cumulative_weeks_in_top_10                     13\n",
       "weekly_hours_viewed                       4970000\n",
       "season_title                                  NaN\n",
       "weekly_rank                                    10\n",
       "show_title                             Red Notice\n",
       "date_added                    2022-03-01 00:00:00\n",
       "week                          2022-02-27 00:00:00\n",
       "Name: 449, dtype: object"
      ]
     },
     "execution_count": 71,
     "metadata": {},
     "output_type": "execute_result"
    }
   ],
   "source": [
    "most_weeks = film_eng.loc[count]\n",
    "most_weeks"
   ]
  },
  {
   "cell_type": "code",
   "execution_count": 72,
   "id": "ddb7392e-a492-4947-a95a-937b0204cdda",
   "metadata": {},
   "outputs": [
    {
     "data": {
      "text/html": [
       "<div>\n",
       "<style scoped>\n",
       "    .dataframe tbody tr th:only-of-type {\n",
       "        vertical-align: middle;\n",
       "    }\n",
       "\n",
       "    .dataframe tbody tr th {\n",
       "        vertical-align: top;\n",
       "    }\n",
       "\n",
       "    .dataframe thead th {\n",
       "        text-align: right;\n",
       "    }\n",
       "</style>\n",
       "<table border=\"1\" class=\"dataframe\">\n",
       "  <thead>\n",
       "    <tr style=\"text-align: right;\">\n",
       "      <th></th>\n",
       "      <th>category</th>\n",
       "      <th>cumulative_weeks_in_top_10</th>\n",
       "      <th>weekly_hours_viewed</th>\n",
       "      <th>season_title</th>\n",
       "      <th>weekly_rank</th>\n",
       "      <th>show_title</th>\n",
       "      <th>date_added</th>\n",
       "      <th>week</th>\n",
       "    </tr>\n",
       "  </thead>\n",
       "  <tbody>\n",
       "    <tr>\n",
       "      <th>449</th>\n",
       "      <td>Films (English)</td>\n",
       "      <td>13</td>\n",
       "      <td>4970000</td>\n",
       "      <td>NaN</td>\n",
       "      <td>10</td>\n",
       "      <td>Red Notice</td>\n",
       "      <td>2022-03-01</td>\n",
       "      <td>2022-02-27</td>\n",
       "    </tr>\n",
       "    <tr>\n",
       "      <th>358</th>\n",
       "      <td>Films (English)</td>\n",
       "      <td>12</td>\n",
       "      <td>6540000</td>\n",
       "      <td>NaN</td>\n",
       "      <td>6</td>\n",
       "      <td>Red Notice</td>\n",
       "      <td>2022-02-01</td>\n",
       "      <td>2022-01-30</td>\n",
       "    </tr>\n",
       "    <tr>\n",
       "      <th>374</th>\n",
       "      <td>Films (English)</td>\n",
       "      <td>11</td>\n",
       "      <td>7310000</td>\n",
       "      <td>NaN</td>\n",
       "      <td>8</td>\n",
       "      <td>Red Notice</td>\n",
       "      <td>2022-01-25</td>\n",
       "      <td>2022-01-23</td>\n",
       "    </tr>\n",
       "    <tr>\n",
       "      <th>41</th>\n",
       "      <td>Films (English)</td>\n",
       "      <td>10</td>\n",
       "      <td>8710000</td>\n",
       "      <td>NaN</td>\n",
       "      <td>6</td>\n",
       "      <td>Red Notice</td>\n",
       "      <td>2022-01-18</td>\n",
       "      <td>2022-01-16</td>\n",
       "    </tr>\n",
       "    <tr>\n",
       "      <th>716</th>\n",
       "      <td>Films (English)</td>\n",
       "      <td>9</td>\n",
       "      <td>11090000</td>\n",
       "      <td>NaN</td>\n",
       "      <td>6</td>\n",
       "      <td>Red Notice</td>\n",
       "      <td>2022-01-11</td>\n",
       "      <td>2022-01-09</td>\n",
       "    </tr>\n",
       "  </tbody>\n",
       "</table>\n",
       "</div>"
      ],
      "text/plain": [
       "            category  cumulative_weeks_in_top_10  weekly_hours_viewed  \\\n",
       "449  Films (English)                          13              4970000   \n",
       "358  Films (English)                          12              6540000   \n",
       "374  Films (English)                          11              7310000   \n",
       "41   Films (English)                          10              8710000   \n",
       "716  Films (English)                           9             11090000   \n",
       "\n",
       "    season_title  weekly_rank  show_title date_added       week  \n",
       "449          NaN           10  Red Notice 2022-03-01 2022-02-27  \n",
       "358          NaN            6  Red Notice 2022-02-01 2022-01-30  \n",
       "374          NaN            8  Red Notice 2022-01-25 2022-01-23  \n",
       "41           NaN            6  Red Notice 2022-01-18 2022-01-16  \n",
       "716          NaN            6  Red Notice 2022-01-11 2022-01-09  "
      ]
     },
     "execution_count": 72,
     "metadata": {},
     "output_type": "execute_result"
    }
   ],
   "source": [
    "# another way to do this is to sort the data frame from largest to smallest based on the column 'cumulative_weeks_in\n",
    "#_top_10'\n",
    "sorted_film_eng = film_eng.sort_values(by='cumulative_weeks_in_top_10', ascending=False)\n",
    "sorted_film_eng.head()"
   ]
  },
  {
   "cell_type": "markdown",
   "id": "820a1427-6fa2-40f3-9202-658036a159dc",
   "metadata": {},
   "source": [
    "The Film (English) with the most cumulative weeks in the top 10 was the film Red Notice with 13 weeks!"
   ]
  },
  {
   "cell_type": "markdown",
   "id": "99b1913d-c618-4510-b447-e81b0606682a",
   "metadata": {},
   "source": [
    "To approximate how many users viewed this film one could divide the weekly_hours_viewed by the runtime of the movie which will approximate how many separate instances the film was watched. The assumption to this method is that each instance the movie is viewed it is by a different user and we are taking away the fact that one user could have watched this movie multiple times. The risks to this approach are that not every user watches an entire movie in one sitting, some viewers might watch only a portion of the movie while others may be rewatching it."
   ]
  },
  {
   "cell_type": "markdown",
   "id": "85876558-305a-4bd6-ac2b-48b64436009d",
   "metadata": {},
   "source": [
    "## Weekly Hours Viewed "
   ]
  },
  {
   "cell_type": "markdown",
   "id": "15d1451b-73da-455b-8203-e4af8d9d53cd",
   "metadata": {},
   "source": [
    "If you plot weekly hours viewed over time (as an aggregate and for each of the four categories) what trends do you notice?"
   ]
  },
  {
   "cell_type": "code",
   "execution_count": 101,
   "id": "fc8335ff-d472-4d44-b7af-1ad4471cad57",
   "metadata": {},
   "outputs": [
    {
     "data": {
      "text/html": [
       "<div>\n",
       "<style scoped>\n",
       "    .dataframe tbody tr th:only-of-type {\n",
       "        vertical-align: middle;\n",
       "    }\n",
       "\n",
       "    .dataframe tbody tr th {\n",
       "        vertical-align: top;\n",
       "    }\n",
       "\n",
       "    .dataframe thead th {\n",
       "        text-align: right;\n",
       "    }\n",
       "</style>\n",
       "<table border=\"1\" class=\"dataframe\">\n",
       "  <thead>\n",
       "    <tr style=\"text-align: right;\">\n",
       "      <th></th>\n",
       "      <th>category</th>\n",
       "      <th>cumulative_weeks_in_top_10</th>\n",
       "      <th>weekly_hours_viewed</th>\n",
       "      <th>season_title</th>\n",
       "      <th>weekly_rank</th>\n",
       "      <th>show_title</th>\n",
       "      <th>date_added</th>\n",
       "      <th>week</th>\n",
       "    </tr>\n",
       "  </thead>\n",
       "  <tbody>\n",
       "    <tr>\n",
       "      <th>2</th>\n",
       "      <td>TV (Non-English)</td>\n",
       "      <td>1</td>\n",
       "      <td>10140000</td>\n",
       "      <td>Elite: Season 2</td>\n",
       "      <td>8</td>\n",
       "      <td>Elite</td>\n",
       "      <td>2022-01-04</td>\n",
       "      <td>2021-07-04</td>\n",
       "    </tr>\n",
       "    <tr>\n",
       "      <th>5</th>\n",
       "      <td>TV (Non-English)</td>\n",
       "      <td>1</td>\n",
       "      <td>28270000</td>\n",
       "      <td>Newly Rich, Newly Poor: Season 1</td>\n",
       "      <td>3</td>\n",
       "      <td>Newly Rich, Newly Poor</td>\n",
       "      <td>2022-01-04</td>\n",
       "      <td>2021-07-04</td>\n",
       "    </tr>\n",
       "    <tr>\n",
       "      <th>6</th>\n",
       "      <td>TV (Non-English)</td>\n",
       "      <td>4</td>\n",
       "      <td>12150000</td>\n",
       "      <td>Money Heist: Part 1</td>\n",
       "      <td>6</td>\n",
       "      <td>Money Heist</td>\n",
       "      <td>2022-01-04</td>\n",
       "      <td>2021-09-26</td>\n",
       "    </tr>\n",
       "    <tr>\n",
       "      <th>8</th>\n",
       "      <td>TV (Non-English)</td>\n",
       "      <td>13</td>\n",
       "      <td>13000000</td>\n",
       "      <td>Money Heist: Part 5</td>\n",
       "      <td>7</td>\n",
       "      <td>Money Heist</td>\n",
       "      <td>2022-01-18</td>\n",
       "      <td>2022-01-16</td>\n",
       "    </tr>\n",
       "    <tr>\n",
       "      <th>10</th>\n",
       "      <td>TV (Non-English)</td>\n",
       "      <td>1</td>\n",
       "      <td>11850000</td>\n",
       "      <td>Twenty Five Twenty One: Season 1</td>\n",
       "      <td>7</td>\n",
       "      <td>Twenty Five Twenty One</td>\n",
       "      <td>2022-03-01</td>\n",
       "      <td>2022-02-27</td>\n",
       "    </tr>\n",
       "  </tbody>\n",
       "</table>\n",
       "</div>"
      ],
      "text/plain": [
       "            category  cumulative_weeks_in_top_10  weekly_hours_viewed  \\\n",
       "2   TV (Non-English)                           1             10140000   \n",
       "5   TV (Non-English)                           1             28270000   \n",
       "6   TV (Non-English)                           4             12150000   \n",
       "8   TV (Non-English)                          13             13000000   \n",
       "10  TV (Non-English)                           1             11850000   \n",
       "\n",
       "                        season_title  weekly_rank              show_title  \\\n",
       "2                    Elite: Season 2            8                   Elite   \n",
       "5   Newly Rich, Newly Poor: Season 1            3  Newly Rich, Newly Poor   \n",
       "6                Money Heist: Part 1            6             Money Heist   \n",
       "8                Money Heist: Part 5            7             Money Heist   \n",
       "10  Twenty Five Twenty One: Season 1            7  Twenty Five Twenty One   \n",
       "\n",
       "   date_added       week  \n",
       "2  2022-01-04 2021-07-04  \n",
       "5  2022-01-04 2021-07-04  \n",
       "6  2022-01-04 2021-09-26  \n",
       "8  2022-01-18 2022-01-16  \n",
       "10 2022-03-01 2022-02-27  "
      ]
     },
     "execution_count": 101,
     "metadata": {},
     "output_type": "execute_result"
    }
   ],
   "source": [
    "english_tv.head()\n",
    "film_noneng.head()\n",
    "film_eng.head()\n",
    "\n",
    "noneng_tv = nflx_top['category'] == 'TV (Non-English)'\n",
    "noneng_tv = nflx_top[noneng_tv]\n",
    "noneng_tv.head()"
   ]
  },
  {
   "cell_type": "markdown",
   "id": "e8635cfb-3878-4722-a9f8-52aa0e8808ea",
   "metadata": {},
   "source": [
    "Now we have each of the four categories separated into its own dataframes, we can now plot the weekly hours viewed against time."
   ]
  },
  {
   "cell_type": "code",
   "execution_count": 92,
   "id": "5fe85c40-7ebd-442b-b133-cf103e5250e5",
   "metadata": {},
   "outputs": [],
   "source": [
    "copy_noneng_tv = noneng_tv.copy()"
   ]
  },
  {
   "cell_type": "code",
   "execution_count": 94,
   "id": "2b8cc7dc-7686-4749-bd57-a6e276b4f6e3",
   "metadata": {},
   "outputs": [
    {
     "data": {
      "text/html": [
       "<div>\n",
       "<style scoped>\n",
       "    .dataframe tbody tr th:only-of-type {\n",
       "        vertical-align: middle;\n",
       "    }\n",
       "\n",
       "    .dataframe tbody tr th {\n",
       "        vertical-align: top;\n",
       "    }\n",
       "\n",
       "    .dataframe thead th {\n",
       "        text-align: right;\n",
       "    }\n",
       "</style>\n",
       "<table border=\"1\" class=\"dataframe\">\n",
       "  <thead>\n",
       "    <tr style=\"text-align: right;\">\n",
       "      <th></th>\n",
       "      <th>category</th>\n",
       "      <th>cumulative_weeks_in_top_10</th>\n",
       "      <th>weekly_hours_viewed</th>\n",
       "      <th>season_title</th>\n",
       "      <th>weekly_rank</th>\n",
       "      <th>show_title</th>\n",
       "      <th>date_added</th>\n",
       "      <th>week</th>\n",
       "    </tr>\n",
       "  </thead>\n",
       "  <tbody>\n",
       "    <tr>\n",
       "      <th>2</th>\n",
       "      <td>TV (Non-English)</td>\n",
       "      <td>1</td>\n",
       "      <td>10140000</td>\n",
       "      <td>Elite: Season 2</td>\n",
       "      <td>8</td>\n",
       "      <td>Elite</td>\n",
       "      <td>2022-01-04</td>\n",
       "      <td>2021-07-04</td>\n",
       "    </tr>\n",
       "    <tr>\n",
       "      <th>5</th>\n",
       "      <td>TV (Non-English)</td>\n",
       "      <td>1</td>\n",
       "      <td>28270000</td>\n",
       "      <td>Newly Rich, Newly Poor: Season 1</td>\n",
       "      <td>3</td>\n",
       "      <td>Newly Rich, Newly Poor</td>\n",
       "      <td>2022-01-04</td>\n",
       "      <td>2021-07-04</td>\n",
       "    </tr>\n",
       "    <tr>\n",
       "      <th>6</th>\n",
       "      <td>TV (Non-English)</td>\n",
       "      <td>4</td>\n",
       "      <td>12150000</td>\n",
       "      <td>Money Heist: Part 1</td>\n",
       "      <td>6</td>\n",
       "      <td>Money Heist</td>\n",
       "      <td>2022-01-04</td>\n",
       "      <td>2021-09-26</td>\n",
       "    </tr>\n",
       "    <tr>\n",
       "      <th>8</th>\n",
       "      <td>TV (Non-English)</td>\n",
       "      <td>13</td>\n",
       "      <td>13000000</td>\n",
       "      <td>Money Heist: Part 5</td>\n",
       "      <td>7</td>\n",
       "      <td>Money Heist</td>\n",
       "      <td>2022-01-18</td>\n",
       "      <td>2022-01-16</td>\n",
       "    </tr>\n",
       "    <tr>\n",
       "      <th>10</th>\n",
       "      <td>TV (Non-English)</td>\n",
       "      <td>1</td>\n",
       "      <td>11850000</td>\n",
       "      <td>Twenty Five Twenty One: Season 1</td>\n",
       "      <td>7</td>\n",
       "      <td>Twenty Five Twenty One</td>\n",
       "      <td>2022-03-01</td>\n",
       "      <td>2022-02-27</td>\n",
       "    </tr>\n",
       "  </tbody>\n",
       "</table>\n",
       "</div>"
      ],
      "text/plain": [
       "            category  cumulative_weeks_in_top_10  weekly_hours_viewed  \\\n",
       "2   TV (Non-English)                           1             10140000   \n",
       "5   TV (Non-English)                           1             28270000   \n",
       "6   TV (Non-English)                           4             12150000   \n",
       "8   TV (Non-English)                          13             13000000   \n",
       "10  TV (Non-English)                           1             11850000   \n",
       "\n",
       "                        season_title  weekly_rank              show_title  \\\n",
       "2                    Elite: Season 2            8                   Elite   \n",
       "5   Newly Rich, Newly Poor: Season 1            3  Newly Rich, Newly Poor   \n",
       "6                Money Heist: Part 1            6             Money Heist   \n",
       "8                Money Heist: Part 5            7             Money Heist   \n",
       "10  Twenty Five Twenty One: Season 1            7  Twenty Five Twenty One   \n",
       "\n",
       "   date_added       week  \n",
       "2  2022-01-04 2021-07-04  \n",
       "5  2022-01-04 2021-07-04  \n",
       "6  2022-01-04 2021-09-26  \n",
       "8  2022-01-18 2022-01-16  \n",
       "10 2022-03-01 2022-02-27  "
      ]
     },
     "execution_count": 94,
     "metadata": {},
     "output_type": "execute_result"
    }
   ],
   "source": [
    "copy_noneng_tv.head()"
   ]
  },
  {
   "cell_type": "code",
   "execution_count": 95,
   "id": "9ebe7d23-8ed1-46b0-ba2c-dd5ef526ae8c",
   "metadata": {},
   "outputs": [],
   "source": [
    "# first convert the date_added column to a datetime format\n",
    "copy_noneng_tv.loc[:, 'date_added'] = pd.to_datetime(copy_noneng_tv['date_added'])\n"
   ]
  },
  {
   "cell_type": "code",
   "execution_count": 100,
   "id": "73efefec-36e7-4907-bd70-a15df8d8337d",
   "metadata": {},
   "outputs": [
    {
     "data": {
      "text/plain": [
       "2    2022-01-04\n",
       "5    2022-01-04\n",
       "6    2022-01-04\n",
       "8    2022-01-18\n",
       "10   2022-03-01\n",
       "Name: date_added, dtype: datetime64[ns]"
      ]
     },
     "execution_count": 100,
     "metadata": {},
     "output_type": "execute_result"
    }
   ],
   "source": [
    "copy_noneng_tv['date_added'].head()"
   ]
  },
  {
   "cell_type": "code",
   "execution_count": 97,
   "id": "f7c20fe8-fe13-45dc-8f03-682cee29f145",
   "metadata": {},
   "outputs": [
    {
     "data": {
      "text/plain": [
       "date_added\n",
       "2022-01-04    7068570000\n",
       "2022-01-11     267840000\n",
       "2022-01-18     250440000\n",
       "2022-01-25     222770000\n",
       "2022-02-01     349350000\n",
       "2022-02-08     478020000\n",
       "2022-02-15     314560000\n",
       "2022-02-22     239250000\n",
       "2022-03-01     173640000\n",
       "2022-03-09     183340000\n",
       "Name: weekly_hours_viewed, dtype: int64"
      ]
     },
     "execution_count": 97,
     "metadata": {},
     "output_type": "execute_result"
    }
   ],
   "source": [
    "grouped_noneng_tv = copy_noneng_tv.groupby('date_added')['weekly_hours_viewed'].sum()\n",
    "grouped_noneng_tv"
   ]
  },
  {
   "cell_type": "code",
   "execution_count": 108,
   "id": "21b142ce-c974-498c-921f-d651657de941",
   "metadata": {},
   "outputs": [
    {
     "data": {
      "text/plain": [
       "date_added\n",
       "2022-01-04    8155340000\n",
       "2022-01-11     451890000\n",
       "2022-01-18     286090000\n",
       "2022-01-25     346730000\n",
       "2022-02-01     343980000\n",
       "2022-02-08     339650000\n",
       "2022-02-15     312940000\n",
       "2022-02-22     387730000\n",
       "2022-03-01     386570000\n",
       "2022-03-09     398230000\n",
       "Name: weekly_hours_viewed, dtype: int64"
      ]
     },
     "execution_count": 108,
     "metadata": {},
     "output_type": "execute_result"
    }
   ],
   "source": [
    "grouped_engtv = english_tv.groupby('date_added')['weekly_hours_viewed'].sum()\n",
    "grouped_engtv"
   ]
  },
  {
   "cell_type": "code",
   "execution_count": 111,
   "id": "3735628a-2da8-4f2e-8d20-c4849c5e7f3b",
   "metadata": {},
   "outputs": [
    {
     "data": {
      "text/plain": [
       "date_added\n",
       "2022-01-04    1504810000\n",
       "2022-01-11      51290000\n",
       "2022-01-18      41480000\n",
       "2022-01-25      35570000\n",
       "2022-02-01      39410000\n",
       "2022-02-08      67280000\n",
       "2022-02-15      96350000\n",
       "2022-02-22      71260000\n",
       "2022-03-01      68510000\n",
       "2022-03-09      73800000\n",
       "Name: weekly_hours_viewed, dtype: int64"
      ]
     },
     "execution_count": 111,
     "metadata": {},
     "output_type": "execute_result"
    }
   ],
   "source": [
    "grouped_film_noneng = film_noneng.groupby('date_added')['weekly_hours_viewed'].sum()\n",
    "grouped_film_noneng"
   ]
  },
  {
   "cell_type": "code",
   "execution_count": 114,
   "id": "23eba862-9014-447d-a095-c608805fc7d6",
   "metadata": {},
   "outputs": [
    {
     "data": {
      "text/plain": [
       "date_added\n",
       "2022-01-04    4588460000\n",
       "2022-01-11     184480000\n",
       "2022-01-18     155830000\n",
       "2022-01-25     155880000\n",
       "2022-02-01     112340000\n",
       "2022-02-08     151610000\n",
       "2022-02-15     164410000\n",
       "2022-02-22     153400000\n",
       "2022-03-01     119250000\n",
       "2022-03-09     166620000\n",
       "Name: weekly_hours_viewed, dtype: int64"
      ]
     },
     "execution_count": 114,
     "metadata": {},
     "output_type": "execute_result"
    }
   ],
   "source": [
    "grouped_film_eng = film_eng.groupby('date_added')['weekly_hours_viewed'].sum()\n",
    "grouped_film_eng"
   ]
  },
  {
   "cell_type": "code",
   "execution_count": 124,
   "id": "bec3f3bd-15b9-48c8-8c85-68471316d007",
   "metadata": {},
   "outputs": [
    {
     "data": {
      "image/png": "[encoded data removed]",
      "text/plain": [
       "<Figure size 720x432 with 1 Axes>"
      ]
     },
     "metadata": {
      "needs_background": "light"
     },
     "output_type": "display_data"
    }
   ],
   "source": [
    "plt.figure(figsize=(10,6))\n",
    "ax = plt.gca()\n",
    "\n",
    "grouped_data = [grouped_noneng_tv, grouped_engtv, grouped_film_noneng, grouped_film_eng]\n",
    "categories = ['Film (English)', 'Film (Non-English)', 'TV (English)', 'TV (Non-English)']\n",
    "colors = ['blue', 'green', 'red', 'purple']\n",
    "\n",
    "for i, grouped_df in enumerate(grouped_data):\n",
    "    grouped_df.plot(kind = 'line', marker = 'o', linestyle = '-', color =colors[i], ax =ax, label =categories[i])\n",
    "    \n",
    "plt.title ('Weekly Hours Viewed Over Time by Category',fontsize=18, color='darkred', fontweight='bold', loc='center')\n",
    "plt.xlabel ('Date Added', fontsize=15, color='darkred', fontweight='bold')\n",
    "plt.ylabel ('Total Weekly Hours Viewed',fontsize=15, color='darkred', fontweight='bold')\n",
    "plt.grid(True)\n",
    "plt.legend()\n",
    "plt.tight_layout()\n",
    "plt.show()"
   ]
  },
  {
   "cell_type": "markdown",
   "id": "12b178ea-7ee0-4e78-af9d-0795b604659c",
   "metadata": {},
   "source": [
    "Now that we have plotted each of the four categories' weekly hours viewed over time we can see that there is a similar trend for each of the categories: at the beginning of the year there is a large aggregate of weekly hours viewed followed by a large decrease in hours during the second week of January. This can be attributed to a number of factors, for instance since it is around the Holidays more people are on vacation and are able to stream more thus the influx of hours viewed. There is also a higher number of films being watched compared to tv shows. "
   ]
  },
  {
   "cell_type": "markdown",
   "id": "5ce9bbd0-3a5f-42d7-9fac-af8c8ca3f291",
   "metadata": {},
   "source": [
    "## Key Investor Question"
   ]
  },
  {
   "cell_type": "markdown",
   "id": "684cb7f5-ea29-4115-90b5-04e6f7d3b3c8",
   "metadata": {},
   "source": [
    "Another key investor question is how many US subscribers Netflix has each quarter. Name one type of dataset you could use to answer this question. How would this data source help you estimate Neflix's US subscribers? "
   ]
  },
  {
   "cell_type": "markdown",
   "id": "ce94ec95-45a9-4732-bf48-5da30ec67dee",
   "metadata": {},
   "source": [
    "A dataset that would be useful in estimating Netflix's US subscribers for each quarter would be "
   ]
  },
  {
   "cell_type": "markdown",
   "id": "605a7c55-fc6d-479f-8367-4a9c700081ed",
   "metadata": {},
   "source": [
    "## Web Scraping Methodology"
   ]
  },
  {
   "cell_type": "markdown",
   "id": "046ae3f2-df0c-4ddf-9170-0ae678eceafc",
   "metadata": {},
   "source": [
    "List three reasons why our web scraping methodology may be inaccurate."
   ]
  },
  {
   "cell_type": "markdown",
   "id": "7b26afca-a798-40df-bbb1-2019116cdd59",
   "metadata": {},
   "source": [
    "* Missing Data: Since not all users place a review or rate the movie or show they are watching on IMDb, this could lead to missing rates or incomplete data that could provide skewness to the data toward titles that are more popular or well known.\n",
    "\n",
    "* Outside Factors: There are other outside factors such as holidays, trends, or marketing efforts that can be influencing the title being on the top 10 list that the data is not taking into account. \n",
    "\n",
    "* Runtime Change: Movies or TV shows can have varying runtimes which might change during the initial web scraping. This would lead to incorrect calculations during the analysis of the data."
   ]
  },
  {
   "cell_type": "code",
   "execution_count": null,
   "id": "1e1c22dc-ef8f-499c-a8c3-75ffbe6cd88b",
   "metadata": {},
   "outputs": [],
   "source": []
  }
 ],
 "metadata": {
  "kernelspec": {
   "display_name": "Python 3 (ipykernel)",
   "language": "python",
   "name": "python3"
  },
  "language_info": {
   "codemirror_mode": {
    "name": "ipython",
    "version": 3
   },
   "file_extension": ".py",
   "mimetype": "text/x-python",
   "name": "python",
   "nbconvert_exporter": "python",
   "pygments_lexer": "ipython3",
   "version": "3.9.12"
  }
 },
 "nbformat": 4,
 "nbformat_minor": 5
}
